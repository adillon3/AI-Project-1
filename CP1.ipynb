{
 "cells": [
  {
   "cell_type": "code",
   "execution_count": 1,
   "metadata": {},
   "outputs": [
    {
     "name": "stdout",
     "output_type": "stream",
     "text": [
      "Starting up\n"
     ]
    }
   ],
   "source": [
    "# References:\n",
    "# https://github.com/aimacode/aima-python/blob/master/search.ipynb\n",
    "\n",
    "# Node Class\n",
    "class Node():\n",
    "    def __init__(self, state, parent=None, edgeWeight=0):\n",
    "        self.state = state # Letter\n",
    "        self.parent = parent\n",
    "        self.edgeWeight = edgeWeight # Cost from parent to self\n",
    "        self.children = []\n",
    "        '''\n",
    "        # Need depth?\n",
    "        self.depth = 0\n",
    "        if parent:\n",
    "            self.depth = parent.depth + 1\n",
    "        '''\n",
    "    \n",
    "    # Assigns the child's parent & edgeweight + appends childNode to self.children\n",
    "    def addChild(self, childNode, edgeWeight):\n",
    "        childNode.parent = self\n",
    "        childNode.edgeWeight = edgeWeight\n",
    "        self.children.append(childNode)\n",
    "        \n",
    "    # Returns the list of states from root to current + the total edge weight\n",
    "    def getPath(self):\n",
    "        node = self\n",
    "        pathBack = []\n",
    "        totalEdgeWeight = 0\n",
    "        while node:\n",
    "            pathBack.append(node.state)\n",
    "            totalEdgeWeight += node.edgeWeight\n",
    "            node = node.parent\n",
    "        return [list(reversed(pathBack)), totalEdgeWeight]\n",
    "\n",
    "# Tree Class\n",
    "class Tree():\n",
    "    def __init__(self):\n",
    "        self.root = Node(\"S\")\n",
    "\n",
    "    def addNode(self, childNode, parentNode, edgeWeight):\n",
    "        parentNode.addChild(childNode, edgeWeight)\n",
    "        '''\n",
    "        # In main\n",
    "        tree = Tree()\n",
    "        a = Node(\"A\")\n",
    "        b = Node(\"B\")\n",
    "        c = Node(\"C\")\n",
    "        d = Node(\"D\")\n",
    "        e = Node(\"E\")\n",
    "        g1 = Node(\"G\")\n",
    "        g2 = Node(\"G\")\n",
    "        g3 = Node(\"G\")\n",
    "        tree.addNode(a, tree.root, 3)\n",
    "        tree.addNode(b, tree.root, 1)\n",
    "        tree.addNode(c, tree.root, 8)\n",
    "        tree.addNode(d, a, 3)\n",
    "        tree.addNode(e, a, 7)\n",
    "        tree.addNode(g1, a, 15)\n",
    "        tree.addNode(g2, b, 20)\n",
    "        tree.addNode(g3, c, 5)\n",
    "        print(g3.getPath())\n",
    "        '''\n",
    "        \n",
    "    \n",
    "    # Depth-first search, Breadth-first search, or Uniform cost search\n",
    "    # Searching for the first instance of (node.state == \"G\")\n",
    "    def search(self):\n",
    "        print()\n",
    "\n",
    "        \n",
    "\n",
    "#\n",
    "print(\"Starting up\")\n",
    "\n",
    "\n",
    "\n",
    "\n",
    "\n",
    "    \n",
    "    "
   ]
  },
  {
   "cell_type": "code",
   "execution_count": null,
   "metadata": {},
   "outputs": [],
   "source": []
  },
  {
   "cell_type": "code",
   "execution_count": null,
   "metadata": {},
   "outputs": [],
   "source": []
  }
 ],
 "metadata": {
  "kernelspec": {
   "display_name": "Python 3",
   "language": "python",
   "name": "python3"
  },
  "language_info": {
   "codemirror_mode": {
    "name": "ipython",
    "version": 3
   },
   "file_extension": ".py",
   "mimetype": "text/x-python",
   "name": "python",
   "nbconvert_exporter": "python",
   "pygments_lexer": "ipython3",
   "version": "3.8.12"
  }
 },
 "nbformat": 4,
 "nbformat_minor": 4
}
