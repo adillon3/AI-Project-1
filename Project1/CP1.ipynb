{
 "cells": [
  {
   "cell_type": "code",
   "execution_count": 26,
   "metadata": {},
   "outputs": [
    {
     "name": "stdout",
     "output_type": "stream",
     "text": [
      "Expanded nodes:\n",
      "['S', 'A', 'D', 'E', 'G']\n",
      "Path:\n",
      "['S', 'A', 'G']\n"
     ]
    }
   ],
   "source": [
    "# Group members:\n",
    "# Andrew Dillon\n",
    "# Michael Lewson\n",
    "# Cole Ternes\n",
    "\n",
    "# References:\n",
    "# https://github.com/aimacode/aima-python/blob/master/search.ipynb\n",
    "\n",
    "# Node Class\n",
    "class Node():\n",
    "    def __init__(self, state, edgeWeight=0):\n",
    "        self.state = state # Letter\n",
    "        self.edgeWeight = edgeWeight # Cost from parent to self\n",
    "        self.children = []\n",
    "    \n",
    "    # Assigns the child's parent & edgeweight + appends childNode to self.children\n",
    "    def addChild(self, childNode, edgeWeight):\n",
    "        childNode.parent = self\n",
    "        childNode.edgeWeight = edgeWeight\n",
    "        self.children.append(childNode)\n",
    "\n",
    "# Tree Class\n",
    "class Tree():\n",
    "    def __init__(self):\n",
    "        self.root = None\n",
    "        self.path = []\n",
    "        self.visited = []\n",
    "        self.destinationFound = False\n",
    "\n",
    "    # Adds the root to the tree\n",
    "    def addRoot(self, rootNode):\n",
    "        self.root = rootNode\n",
    "\n",
    "    # Adds the childNode to the tree under the parent node\n",
    "    def addNode(self, childNode, parentNode, edgeWeight):\n",
    "        parentNode.addChild(childNode, edgeWeight)\n",
    "    \n",
    "    # Depth-first search\n",
    "    def dfs(self, currNode, destination):\n",
    "        # Skipping function if destination already found\n",
    "        if(self.destinationFound):\n",
    "            return\n",
    "        \n",
    "        # Append the currNode to visited and path\n",
    "        self.visited.append(currNode.state)\n",
    "        self.path.append(currNode.state)\n",
    "        \n",
    "        # Check if currNode is the destination\n",
    "        if(currNode.state == destination.state):\n",
    "            self.destinationFound = True\n",
    "            return\n",
    "        \n",
    "        #adding children to frontier\n",
    "        for n in currNode.children:\n",
    "            # Recursively search tree\n",
    "            self.dfs(n, destination)\n",
    "            # Remove currNode if not in the path\n",
    "            if(not self.destinationFound):\n",
    "                self.path.pop()\n",
    "        \n",
    "# Create the tree\n",
    "tree = Tree()\n",
    "\n",
    "# Define the nodes\n",
    "root = Node(\"S\")\n",
    "a = Node(\"A\")\n",
    "b = Node(\"B\")\n",
    "c = Node(\"C\")\n",
    "d = Node(\"D\")\n",
    "e = Node(\"E\")\n",
    "g = Node(\"G\")\n",
    "\n",
    "# Adding nodes to tree\n",
    "tree.addRoot(root)\n",
    "tree.addNode(a, tree.root, 3)\n",
    "tree.addNode(b, tree.root, 1)\n",
    "tree.addNode(c, tree.root, 8)\n",
    "tree.addNode(d, a, 3)\n",
    "tree.addNode(e, a, 7)\n",
    "tree.addNode(g, a, 15)\n",
    "tree.addNode(g, b, 20)\n",
    "tree.addNode(g, c, 5)\n",
    "\n",
    "# Depth-first search through tree\n",
    "tree.dfs(tree.root, g)\n",
    "\n",
    "# Print the path and all nodes visited\n",
    "print(\"Expanded nodes:\\n\" + str(tree.visited))\n",
    "print(\"Path:\\n\" + str(tree.path))"
   ]
  },
  {
   "cell_type": "code",
   "execution_count": null,
   "metadata": {},
   "outputs": [],
   "source": []
  },
  {
   "cell_type": "code",
   "execution_count": null,
   "metadata": {},
   "outputs": [],
   "source": []
  },
  {
   "cell_type": "code",
   "execution_count": null,
   "metadata": {},
   "outputs": [],
   "source": []
  },
  {
   "cell_type": "code",
   "execution_count": null,
   "metadata": {},
   "outputs": [],
   "source": []
  },
  {
   "cell_type": "code",
   "execution_count": null,
   "metadata": {},
   "outputs": [],
   "source": []
  },
  {
   "cell_type": "code",
   "execution_count": null,
   "metadata": {},
   "outputs": [],
   "source": []
  },
  {
   "cell_type": "code",
   "execution_count": null,
   "metadata": {},
   "outputs": [],
   "source": []
  },
  {
   "cell_type": "code",
   "execution_count": null,
   "metadata": {},
   "outputs": [],
   "source": []
  }
 ],
 "metadata": {
  "kernelspec": {
   "display_name": "Python 3",
   "language": "python",
   "name": "python3"
  },
  "language_info": {
   "codemirror_mode": {
    "name": "ipython",
    "version": 3
   },
   "file_extension": ".py",
   "mimetype": "text/x-python",
   "name": "python",
   "nbconvert_exporter": "python",
   "pygments_lexer": "ipython3",
   "version": "3.8.12"
  }
 },
 "nbformat": 4,
 "nbformat_minor": 4
}
