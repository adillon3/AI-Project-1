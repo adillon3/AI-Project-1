{
 "cells": [
  {
   "cell_type": "code",
   "execution_count": 2,
   "metadata": {},
   "outputs": [
    {
     "name": "stdout",
     "output_type": "stream",
     "text": [
      "Starting up\n"
     ]
    }
   ],
   "source": [
    "#Node Class\n",
    "class Node():\n",
    "    def _init_(self):\n",
    "        print()\n",
    "    \n",
    "    def addChild(self, node, edgeWeight):\n",
    "        print()\n",
    "    \n",
    "#Tree Class\n",
    "class Tree():\n",
    "    def _init_(self):\n",
    "        print()\n",
    "        \n",
    "    def addNode(self):\n",
    "        print()\n",
    "        \n",
    "    def search(self):\n",
    "        print()\n",
    "\n",
    "        \n",
    "\n",
    "#\n",
    "print(\"Starting up\")\n",
    "\n",
    "\n",
    "\n",
    "\n",
    "\n",
    "    \n",
    "    "
   ]
  },
  {
   "cell_type": "code",
   "execution_count": null,
   "metadata": {},
   "outputs": [],
   "source": []
  }
 ],
 "metadata": {
  "kernelspec": {
   "display_name": "Python 3",
   "language": "python",
   "name": "python3"
  },
  "language_info": {
   "codemirror_mode": {
    "name": "ipython",
    "version": 3
   },
   "file_extension": ".py",
   "mimetype": "text/x-python",
   "name": "python",
   "nbconvert_exporter": "python",
   "pygments_lexer": "ipython3",
   "version": "3.8.12"
  }
 },
 "nbformat": 4,
 "nbformat_minor": 4
}
